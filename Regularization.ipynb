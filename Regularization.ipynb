{
  "nbformat": 4,
  "nbformat_minor": 0,
  "metadata": {
    "colab": {
      "name": "Regularization.ipynb",
      "provenance": [],
      "collapsed_sections": []
    },
    "kernelspec": {
      "name": "python3",
      "display_name": "Python 3"
    }
  },
  "cells": [
    {
      "cell_type": "code",
      "metadata": {
        "id": "-TKaSjh3SFOh",
        "colab_type": "code",
        "colab": {}
      },
      "source": [
        "import numpy as np\n",
        "from sklearn import datasets\n",
        "from matplotlib import pyplot as plt"
      ],
      "execution_count": 0,
      "outputs": []
    },
    {
      "cell_type": "code",
      "metadata": {
        "id": "iMNfZu1USND_",
        "colab_type": "code",
        "colab": {}
      },
      "source": [
        "# Load the boston dataset\n",
        "boston = datasets.load_boston()    #sklearn.datasets.base.Bunch"
      ],
      "execution_count": 0,
      "outputs": []
    },
    {
      "cell_type": "code",
      "metadata": {
        "id": "nOOnHN3-ST6D",
        "colab_type": "code",
        "colab": {}
      },
      "source": [
        "trainingset=boston.data[0:400,:]   #boston.data is numpy array \n",
        "trainingsettarget=boston.target[0:400]\n",
        "\n",
        "testset=boston.data[400:506,:]\n",
        "testsettarget=boston.target[400:506]"
      ],
      "execution_count": 0,
      "outputs": []
    },
    {
      "cell_type": "code",
      "metadata": {
        "id": "qaAS7T2TSV6K",
        "colab_type": "code",
        "colab": {}
      },
      "source": [
        "training=np.ones((400,1))\n",
        "test=np.ones((106,1))\n",
        "\n",
        "x = np.concatenate((training,trainingset),axis=1) \n",
        "y = trainingsettarget\n",
        "test_set = np.concatenate((test,testset),axis=1)"
      ],
      "execution_count": 0,
      "outputs": []
    },
    {
      "cell_type": "code",
      "metadata": {
        "id": "-2SZL7cQSX5H",
        "colab_type": "code",
        "colab": {}
      },
      "source": [
        "try:\n",
        "    inverse = np.linalg.inv(np.dot(x.T,x))\n",
        "except np.linalg.LinAlgError:\n",
        "    pass\n",
        "else:\n",
        "    inverse = np.linalg.pinv(np.dot(x.T,x))\n",
        "\n",
        "theta = np.dot(np.dot(inverse,x.T),y)\n",
        "y_pred = np.dot(theta,test_set.T) "
      ],
      "execution_count": 0,
      "outputs": []
    },
    {
      "cell_type": "code",
      "metadata": {
        "id": "LWnaDjhYS0ej",
        "colab_type": "code",
        "outputId": "96832b2b-eb4b-49e3-b02a-ee845ec5205e",
        "colab": {
          "base_uri": "https://localhost:8080/",
          "height": 35
        }
      },
      "source": [
        "Lambda=1e-15\n",
        "\n",
        "L1 = np.sum((y_pred - testsettarget)**2) +  Lambda*np.sum(abs(theta))\n",
        "\n",
        "print(\"L1(Lasso) = {0}\".format(L1))"
      ],
      "execution_count": 0,
      "outputs": [
        {
          "output_type": "stream",
          "text": [
            "L1(Lasso) = 4016.74053151237\n"
          ],
          "name": "stdout"
        }
      ]
    },
    {
      "cell_type": "code",
      "metadata": {
        "id": "JRx-yhujUgXY",
        "colab_type": "code",
        "outputId": "588b143f-91b2-4a1d-9649-5209de94fae7",
        "colab": {
          "base_uri": "https://localhost:8080/",
          "height": 35
        }
      },
      "source": [
        "Lambda=1e-15\n",
        "\n",
        "L2 = np.sum((y_pred - testsettarget)**2) +  Lambda*np.sum(theta**2)\n",
        "\n",
        "print(\"L2(Ridge) = {0}\".format(L2))"
      ],
      "execution_count": 0,
      "outputs": [
        {
          "output_type": "stream",
          "text": [
            "L2(Ridge) = 4016.740531512371\n"
          ],
          "name": "stdout"
        }
      ]
    },
    {
      "cell_type": "code",
      "metadata": {
        "id": "HrsKZbpbXR4O",
        "colab_type": "code",
        "colab": {}
      },
      "source": [
        ""
      ],
      "execution_count": 0,
      "outputs": []
    }
  ]
}
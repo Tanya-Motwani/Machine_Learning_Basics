{
 "cells": [
  {
   "cell_type": "code",
   "execution_count": 2,
   "metadata": {},
   "outputs": [],
   "source": [
    "import numpy as np\n",
    "from sklearn import datasets\n",
    "from matplotlib import pyplot as plt"
   ]
  },
  {
   "cell_type": "code",
   "execution_count": 3,
   "metadata": {},
   "outputs": [],
   "source": [
    "# Load the boston dataset\n",
    "boston = datasets.load_boston()    #sklearn.datasets.base.Bunch"
   ]
  },
  {
   "cell_type": "code",
   "execution_count": 4,
   "metadata": {},
   "outputs": [],
   "source": [
    "trainingset=boston.data[0:400,:]   #boston.data is numpy array \n",
    "trainingsettarget=boston.target[0:400]\n",
    "\n",
    "testset=boston.data[400:506,:]\n",
    "testsettarget=boston.target[400:506]"
   ]
  },
  {
   "cell_type": "code",
   "execution_count": 18,
   "metadata": {},
   "outputs": [],
   "source": [
    "training=np.ones((400,1))\n",
    "test=np.ones((106,1))\n",
    "\n",
    "x = np.concatenate((training,trainingset),axis=1) \n",
    "y = trainingsettarget\n",
    "test_set = np.concatenate((test,testset),axis=1)"
   ]
  },
  {
   "cell_type": "code",
   "execution_count": 17,
   "metadata": {},
   "outputs": [
    {
     "name": "stdout",
     "output_type": "stream",
     "text": [
      "MAPE = 40.74807081369636\n"
     ]
    }
   ],
   "source": [
    "try:\n",
    "    inverse = np.linalg.inv(np.dot(x.T,x))\n",
    "except np.linalg.LinAlgError:\n",
    "    pass\n",
    "else:\n",
    "    inverse = np.linalg.pinv(np.dot(x.T,x))\n",
    "\n",
    "theta = np.dot(np.dot(inverse,x.T),y)\n",
    "y_pred = np.dot(theta,test_set.T) \n",
    "\n",
    "mape = np.mean(np.abs((testsettarget-y_pred)/testsettarget))*100\n",
    "print(\"MAPE = {0}\".format(mape))"
   ]
  },
  {
   "cell_type": "code",
   "execution_count": null,
   "metadata": {},
   "outputs": [],
   "source": []
  }
 ],
 "metadata": {
  "kernelspec": {
   "display_name": "Python 3",
   "language": "python",
   "name": "python3"
  },
  "language_info": {
   "codemirror_mode": {
    "name": "ipython",
    "version": 3
   },
   "file_extension": ".py",
   "mimetype": "text/x-python",
   "name": "python",
   "nbconvert_exporter": "python",
   "pygments_lexer": "ipython3",
   "version": "3.6.5"
  }
 },
 "nbformat": 4,
 "nbformat_minor": 2
}

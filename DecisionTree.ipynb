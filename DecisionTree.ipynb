{
  "nbformat": 4,
  "nbformat_minor": 0,
  "metadata": {
    "colab": {
      "name": "DecisionTree.ipynb",
      "provenance": []
    },
    "kernelspec": {
      "name": "python3",
      "display_name": "Python 3"
    }
  },
  "cells": [
    {
      "cell_type": "code",
      "metadata": {
        "id": "ZIOubSUpn7tD",
        "colab_type": "code",
        "colab": {}
      },
      "source": [
        "import numpy as np\n",
        "from sklearn import datasets, metrics\n",
        "from sklearn.tree import DecisionTreeClassifier\n",
        "from sklearn.model_selection import train_test_split"
      ],
      "execution_count": 0,
      "outputs": []
    },
    {
      "cell_type": "code",
      "metadata": {
        "id": "sdVHFl5DugIE",
        "colab_type": "code",
        "colab": {}
      },
      "source": [
        "iris=datasets.load_iris()\n",
        "x=iris.data\n",
        "y=iris.target\n",
        "x_train,x_test,y_train,y_test=train_test_split(x,y,test_size=0.5,stratify=y)\n",
        "\n",
        "iris=datasets.load_iris()\n",
        "\n",
        "x_train= iris.data[range(1,150,2),:]\n",
        "y_train=iris.target[range(1,150,2)]\n",
        "\n",
        "x_test= iris.data[range(0,150,2),:]\n",
        "y_test=iris.target[range(0,150,2)]"
      ],
      "execution_count": 0,
      "outputs": []
    },
    {
      "cell_type": "code",
      "metadata": {
        "id": "nlVnCi4zvRmn",
        "colab_type": "code",
        "colab": {}
      },
      "source": [
        "#ID3 Algorithm\n",
        "clf=DecisionTreeClassifier(criterion='entropy')\n",
        "clf.fit(x_train, y_train)\n",
        "predictions=clf.predict(x_test)"
      ],
      "execution_count": 0,
      "outputs": []
    },
    {
      "cell_type": "code",
      "metadata": {
        "id": "hA5P0gYdxLzv",
        "colab_type": "code",
        "outputId": "32226aed-ad1a-4151-88f5-16bc68e82c46",
        "colab": {
          "base_uri": "https://localhost:8080/",
          "height": 274
        }
      },
      "source": [
        "print(\"Accuracy={0}\".format(metrics.accuracy_score(predictions,y_test,normalize=True)))\n",
        "\n",
        "print(metrics.classification_report(predictions,y_test))\n",
        "\n",
        "print(metrics.confusion_matrix(predictions,y_test))"
      ],
      "execution_count": 0,
      "outputs": [
        {
          "output_type": "stream",
          "text": [
            "Accuracy=0.9333333333333333\n",
            "              precision    recall  f1-score   support\n",
            "\n",
            "           0       1.00      1.00      1.00        25\n",
            "           1       0.84      0.95      0.89        22\n",
            "           2       0.96      0.86      0.91        28\n",
            "\n",
            "   micro avg       0.93      0.93      0.93        75\n",
            "   macro avg       0.93      0.94      0.93        75\n",
            "weighted avg       0.94      0.93      0.93        75\n",
            "\n",
            "[[25  0  0]\n",
            " [ 0 21  1]\n",
            " [ 0  4 24]]\n"
          ],
          "name": "stdout"
        }
      ]
    },
    {
      "cell_type": "code",
      "metadata": {
        "id": "1l6v-Sf-xXdH",
        "colab_type": "code",
        "colab": {}
      },
      "source": [
        "#CART ALgorithm\n",
        "clf=DecisionTreeClassifier(criterion='gini')\n",
        "clf.fit(x_train, y_train)\n",
        "predictions=clf.predict(x_test)"
      ],
      "execution_count": 0,
      "outputs": []
    },
    {
      "cell_type": "code",
      "metadata": {
        "id": "_XDizdbGyKKI",
        "colab_type": "code",
        "outputId": "4a987963-b369-4f63-ec8d-ce5592c4bf47",
        "colab": {
          "base_uri": "https://localhost:8080/",
          "height": 274
        }
      },
      "source": [
        "print(\"Accuracy={0}\".format(metrics.accuracy_score(predictions,y_test,normalize=True)))\n",
        "\n",
        "print(metrics.classification_report(predictions,y_test))\n",
        "\n",
        "print(metrics.confusion_matrix(predictions,y_test))"
      ],
      "execution_count": 0,
      "outputs": [
        {
          "output_type": "stream",
          "text": [
            "Accuracy=0.9333333333333333\n",
            "              precision    recall  f1-score   support\n",
            "\n",
            "           0       1.00      1.00      1.00        25\n",
            "           1       0.84      0.95      0.89        22\n",
            "           2       0.96      0.86      0.91        28\n",
            "\n",
            "   micro avg       0.93      0.93      0.93        75\n",
            "   macro avg       0.93      0.94      0.93        75\n",
            "weighted avg       0.94      0.93      0.93        75\n",
            "\n",
            "[[25  0  0]\n",
            " [ 0 21  1]\n",
            " [ 0  4 24]]\n"
          ],
          "name": "stdout"
        }
      ]
    },
    {
      "cell_type": "code",
      "metadata": {
        "id": "cSvwvV7nyLVh",
        "colab_type": "code",
        "colab": {}
      },
      "source": [
        "#C4.5 Algorithm\n"
      ],
      "execution_count": 0,
      "outputs": []
    }
  ]
}
{
  "nbformat": 4,
  "nbformat_minor": 0,
  "metadata": {
    "colab": {
      "name": "Tut2_NormalEqn.ipynb",
      "provenance": [],
      "collapsed_sections": []
    },
    "kernelspec": {
      "name": "python3",
      "display_name": "Python 3"
    }
  },
  "cells": [
    {
      "cell_type": "code",
      "metadata": {
        "id": "OfVHTr2yLZqs",
        "colab_type": "code",
        "colab": {}
      },
      "source": [
        "import numpy as np\n",
        "from sklearn import datasets\n",
        "from matplotlib import pyplot as plt"
      ],
      "execution_count": 0,
      "outputs": []
    },
    {
      "cell_type": "code",
      "metadata": {
        "id": "KrKb4dLILhME",
        "colab_type": "code",
        "colab": {}
      },
      "source": [
        " # Load the boston dataset\n",
        "boston = datasets.load_boston()    #sklearn.datasets.base.Bunch"
      ],
      "execution_count": 0,
      "outputs": []
    },
    {
      "cell_type": "code",
      "metadata": {
        "id": "WkY74Ul_Om13",
        "colab_type": "code",
        "colab": {}
      },
      "source": [
        "trainingset=boston.data[0:400,:]   #boston.data is numpy array \n",
        "trainingsettarget=boston.target[0:400]\n",
        "\n",
        "testset=boston.data[400:506,:]\n",
        "testsettarget=boston.target[400:506]"
      ],
      "execution_count": 0,
      "outputs": []
    },
    {
      "cell_type": "code",
      "metadata": {
        "id": "FzufOt0tOpAP",
        "colab_type": "code",
        "colab": {}
      },
      "source": [
        "training=np.ones((400,1))\n",
        "test=np.ones((106,1))\n",
        "\n",
        "x = np.concatenate((training,trainingset),axis=1) \n",
        "y = trainingsettarget\n",
        "test_set = np.concatenate((test,testset),axis=1)"
      ],
      "execution_count": 0,
      "outputs": []
    },
    {
      "cell_type": "code",
      "metadata": {
        "id": "QJbAlZ-vOtBr",
        "colab_type": "code",
        "outputId": "ab22a05b-cfd0-4eed-96b8-96cffcf9b7e6",
        "colab": {
          "base_uri": "https://localhost:8080/",
          "height": 35
        }
      },
      "source": [
        "try:\n",
        "    inverse = np.linalg.inv(np.dot(x.T,x))\n",
        "except np.linalg.LinAlgError:\n",
        "    pass\n",
        "else:\n",
        "    inverse = np.linalg.pinv(np.dot(x.T,x))\n",
        "\n",
        "theta = np.dot(np.dot(inverse,x.T),y)\n",
        "y_pred = np.dot(theta,test_set.T) \n",
        "\n",
        "mape = np.mean(np.abs((testsettarget-y_pred)/testsettarget))*100\n",
        "print(\"MAPE = {0}\".format(mape))"
      ],
      "execution_count": 0,
      "outputs": [
        {
          "output_type": "stream",
          "text": [
            "MAPE = 40.595171569515436\n"
          ],
          "name": "stdout"
        }
      ]
    },
    {
      "cell_type": "code",
      "metadata": {
        "id": "2qUsqd-iOxNo",
        "colab_type": "code",
        "colab": {}
      },
      "source": [
        ""
      ],
      "execution_count": 0,
      "outputs": []
    }
  ]
}
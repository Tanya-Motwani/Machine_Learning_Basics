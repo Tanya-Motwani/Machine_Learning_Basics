{
  "nbformat": 4,
  "nbformat_minor": 0,
  "metadata": {
    "colab": {
      "name": "MultivariateRegression.ipynb",
      "provenance": [],
      "collapsed_sections": []
    },
    "kernelspec": {
      "name": "python3",
      "display_name": "Python 3"
    }
  },
  "cells": [
    {
      "cell_type": "code",
      "metadata": {
        "id": "nIyR-Et3Wx8E",
        "colab_type": "code",
        "colab": {}
      },
      "source": [
        "#on boston house-prices dataset\n",
        "#Samples Total 506\n",
        "#Dimensionality 13\n",
        "#Features real, positive\n",
        "#targets real and continuous\n",
        "import numpy as np\n",
        "from sklearn import datasets,metrics\n",
        "from matplotlib import pyplot as plt"
      ],
      "execution_count": 0,
      "outputs": []
    },
    {
      "cell_type": "code",
      "metadata": {
        "id": "hQGGFt1IW7EO",
        "colab_type": "code",
        "colab": {}
      },
      "source": [
        "# Load the boston dataset\n",
        "boston = datasets.load_boston()    #sklearn.datasets.base.Bunch"
      ],
      "execution_count": 0,
      "outputs": []
    },
    {
      "cell_type": "code",
      "metadata": {
        "id": "LVICqf1yW-G0",
        "colab_type": "code",
        "colab": {}
      },
      "source": [
        "trainingset=boston.data[0:354,:]   #boston.data is numpy array \n",
        "trainingsettarget=boston.target[0:354]\n",
        "\n",
        "validationset=boston.data[354:405,:]\n",
        "validationsettarget=boston.target[354:405]\n",
        "\n",
        "testset=boston.data[405:506,:]\n",
        "testsettarget=boston.target[400:506]"
      ],
      "execution_count": 0,
      "outputs": []
    },
    {
      "cell_type": "code",
      "metadata": {
        "id": "GwH2Y0RFXA7w",
        "colab_type": "code",
        "colab": {}
      },
      "source": [
        "training=np.ones((354,1))\n",
        "validation=np.ones((51,1))\n",
        "test=np.ones((101,1))\n",
        "\n",
        "x = np.concatenate((training,trainingset),axis=1)\n",
        "y = trainingsettarget\n",
        "val_set = np.concatenate((validation,validationset),axis=1)\n",
        "test_set = np.concatenate((test,testset),axis=1)"
      ],
      "execution_count": 0,
      "outputs": []
    },
    {
      "cell_type": "code",
      "metadata": {
        "id": "ksK86o09XFAO",
        "colab_type": "code",
        "colab": {}
      },
      "source": [
        "# Parameters required for Gradient Descent\n",
        "alpha = 0.01                   #learning rate\n",
        "m = x.shape[0]                 #no. of samples\n",
        "np.random.seed(10)\n",
        "theta = np.random.rand(14)     #initializing theta with some random values"
      ],
      "execution_count": 0,
      "outputs": []
    },
    {
      "cell_type": "code",
      "metadata": {
        "id": "H82GoQAMXJ0G",
        "colab_type": "code",
        "colab": {}
      },
      "source": [
        "def gradient_descent(x, y, m, theta, alpha):\n",
        "    theta_list = []            #to record all theta_0,theta_1... values to this list\n",
        "    cost_list=[]\n",
        "    run = True\n",
        "    j=0\n",
        "    mape = 0\n",
        "    while run:\n",
        "        prev = mape\n",
        "        hypothesis = np.dot(x, theta)   #predicted y values theta_0*x0+theta_1*x1....\n",
        "        error = hypothesis - y\n",
        "                 \n",
        "        theta = theta - (alpha * (1/m) * np.dot(x.T, error))   # alpha * (1/m) * sum[error*x]\n",
        "        theta_list.append(theta)\n",
        "        \n",
        "        mape=np.mean(np.abs(error/hypothesis))* 100\n",
        "        cost_list.append(mape)\n",
        "        \n",
        "        print (\"iter %s | J: %.3f\",j,mape)\n",
        "        \n",
        "        if  j > 20 :   #checking if change cost function is less than 10\n",
        "            run = False\n",
        "       \n",
        "        j+=1\n",
        "    return theta_list,cost_list"
      ],
      "execution_count": 0,
      "outputs": []
    },
    {
      "cell_type": "markdown",
      "metadata": {
        "colab_type": "text",
        "id": "c0DRIZcSfWQM"
      },
      "source": [
        ""
      ]
    },
    {
      "cell_type": "code",
      "metadata": {
        "id": "XoaNYsjkXPSm",
        "colab_type": "code",
        "outputId": "d6f9a6df-0d63-4ee5-80e7-9e2e7d92fe8a",
        "colab": {
          "base_uri": "https://localhost:8080/",
          "height": 399
        }
      },
      "source": [
        "theta_list,cost_list = gradient_descent(x, y, m, theta, alpha)"
      ],
      "execution_count": 0,
      "outputs": [
        {
          "output_type": "stream",
          "text": [
            "iter %s | J: %.3f 0 91.25674196343714\n",
            "iter %s | J: %.3f 1 100.00367811698854\n",
            "iter %s | J: %.3f 2 99.99999851621338\n",
            "iter %s | J: %.3f 3 100.00000000059894\n",
            "iter %s | J: %.3f 4 99.99999999999977\n",
            "iter %s | J: %.3f 5 100.0\n",
            "iter %s | J: %.3f 6 100.0\n",
            "iter %s | J: %.3f 7 100.0\n",
            "iter %s | J: %.3f 8 100.0\n",
            "iter %s | J: %.3f 9 100.0\n",
            "iter %s | J: %.3f 10 100.0\n",
            "iter %s | J: %.3f 11 100.0\n",
            "iter %s | J: %.3f 12 100.0\n",
            "iter %s | J: %.3f 13 100.0\n",
            "iter %s | J: %.3f 14 100.0\n",
            "iter %s | J: %.3f 15 100.0\n",
            "iter %s | J: %.3f 16 100.0\n",
            "iter %s | J: %.3f 17 100.0\n",
            "iter %s | J: %.3f 18 100.0\n",
            "iter %s | J: %.3f 19 100.0\n",
            "iter %s | J: %.3f 20 100.0\n",
            "iter %s | J: %.3f 21 100.0\n"
          ],
          "name": "stdout"
        }
      ]
    },
    {
      "cell_type": "code",
      "metadata": {
        "id": "aCp5Tam4XU1B",
        "colab_type": "code",
        "outputId": "1401ff78-cc82-49a0-9708-eef37f265514",
        "colab": {
          "base_uri": "https://localhost:8080/",
          "height": 377
        }
      },
      "source": [
        "plt.title('Cost Function J')\n",
        "plt.xlabel('No. of iterations')\n",
        "plt.ylabel('Cost')\n",
        "plt.plot(cost_list)\n",
        "plt.show()"
      ],
      "execution_count": 0,
      "outputs": [
        {
          "output_type": "display_data",
          "data": {
            "image/png": "[encoded data removed]",
            "text/plain": [
              "<Figure size 576x396 with 1 Axes>"
            ]
          },
          "metadata": {
            "tags": []
          }
        }
      ]
    }
  ]
}
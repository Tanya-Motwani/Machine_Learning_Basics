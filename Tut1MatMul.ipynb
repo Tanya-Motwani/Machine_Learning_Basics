{
  "nbformat": 4,
  "nbformat_minor": 0,
  "metadata": {
    "colab": {
      "name": "Tut1MatMul.ipynb",
      "provenance": []
    },
    "kernelspec": {
      "name": "python3",
      "display_name": "Python 3"
    }
  },
  "cells": [
    {
      "cell_type": "code",
      "metadata": {
        "id": "3qgmJppZHDYC",
        "colab_type": "code",
        "colab": {}
      },
      "source": [
        "#Matrix Multiplication"
      ],
      "execution_count": 0,
      "outputs": []
    },
    {
      "cell_type": "code",
      "metadata": {
        "id": "GD-KcUZ3Hhoj",
        "colab_type": "code",
        "outputId": "371862d7-47b7-4110-b1e7-87de54d120e2",
        "colab": {
          "base_uri": "https://localhost:8080/",
          "height": 102
        }
      },
      "source": [
        "import numpy as np\n",
        "\n",
        "M1=np.array([[1,0,1,0,1],[1,1,0,1,0],[1,1,1,1,0],[1,0,1,1,0],[1,1,9,2,1]])\n",
        "\n",
        "M2=np.array([[1,2,1,4,1],[1,1,5,1,6],[1,4,1,9,0],[1,1,1,1,1],[1,1,9,2,1]])\n",
        "\n",
        "M3=M1.dot(M2)\n",
        "\n",
        "print(M3)"
      ],
      "execution_count": 0,
      "outputs": [
        {
          "output_type": "stream",
          "text": [
            "[[ 3  7 11 15  2]\n",
            " [ 3  4  7  6  8]\n",
            " [ 4  8  8 15  8]\n",
            " [ 3  7  3 14  2]\n",
            " [14 42 26 90 10]]\n"
          ],
          "name": "stdout"
        }
      ]
    },
    {
      "cell_type": "code",
      "metadata": {
        "id": "lt3pr_SkJ_WV",
        "colab_type": "code",
        "colab": {}
      },
      "source": [
        "#Larger Dimensions"
      ],
      "execution_count": 0,
      "outputs": []
    },
    {
      "cell_type": "code",
      "metadata": {
        "id": "t_gx_rFBLxow",
        "colab_type": "code",
        "outputId": "9dba2ea8-1fd6-42da-c80e-0b86be8ac2c0",
        "colab": {
          "base_uri": "https://localhost:8080/",
          "height": 238
        }
      },
      "source": [
        "M4=np.random.rand(256,256)\n",
        "\n",
        "M5=np.random.rand(256,512)\n",
        "\n",
        "M6=M4.dot(M5)\n",
        "\n",
        "print(M6)"
      ],
      "execution_count": 0,
      "outputs": [
        {
          "output_type": "stream",
          "text": [
            "[[64.6778774  64.94188025 62.66984525 ... 61.64731351 62.97898142\n",
            "  59.96106833]\n",
            " [63.74114295 68.76721106 61.45261922 ... 62.60373185 64.12369499\n",
            "  59.1563314 ]\n",
            " [62.56306733 66.83244854 59.01165752 ... 63.05142069 60.68276351\n",
            "  58.00120556]\n",
            " ...\n",
            " [63.15210566 68.00132237 62.27841773 ... 63.81824747 66.01487895\n",
            "  60.28701441]\n",
            " [61.00745238 64.68304332 59.691216   ... 59.62931519 63.15905522\n",
            "  57.30890813]\n",
            " [65.89260796 64.88703188 58.52679937 ... 61.5378978  61.46325812\n",
            "  59.36121489]]\n"
          ],
          "name": "stdout"
        }
      ]
    },
    {
      "cell_type": "code",
      "metadata": {
        "id": "qPW3dyt8MIN5",
        "colab_type": "code",
        "colab": {}
      },
      "source": [
        ""
      ],
      "execution_count": 0,
      "outputs": []
    },
    {
      "cell_type": "code",
      "metadata": {
        "id": "GU_s4ftGNAVr",
        "colab_type": "code",
        "colab": {}
      },
      "source": [
        ""
      ],
      "execution_count": 0,
      "outputs": []
    }
  ]
}